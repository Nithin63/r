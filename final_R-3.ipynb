{
 "cells": [
  {
   "cell_type": "code",
   "execution_count": 15,
   "metadata": {},
   "outputs": [
    {
     "data": {
      "text/html": [
       "<table>\n",
       "<caption>A data.frame: 7 × 6</caption>\n",
       "<thead>\n",
       "\t<tr><th></th><th scope=col>1</th><th scope=col>2</th><th scope=col>3</th><th scope=col>4</th><th scope=col>5</th><th scope=col>6</th></tr>\n",
       "\t<tr><th></th><th scope=col>&lt;dbl&gt;</th><th scope=col>&lt;dbl&gt;</th><th scope=col>&lt;dbl&gt;</th><th scope=col>&lt;dbl&gt;</th><th scope=col>&lt;dbl&gt;</th><th scope=col>&lt;dbl&gt;</th></tr>\n",
       "</thead>\n",
       "<tbody>\n",
       "\t<tr><th scope=row>dice1</th><td>5</td><td>2</td><td>7</td><td>6</td><td>2</td><td>2</td></tr>\n",
       "\t<tr><th scope=row>dice2</th><td>6</td><td>4</td><td>1</td><td>2</td><td>4</td><td>2</td></tr>\n",
       "\t<tr><th scope=row>dice3</th><td>3</td><td>3</td><td>5</td><td>3</td><td>1</td><td>4</td></tr>\n",
       "\t<tr><th scope=row>dice4</th><td>2</td><td>2</td><td>2</td><td>2</td><td>5</td><td>2</td></tr>\n",
       "\t<tr><th scope=row>dice5</th><td>2</td><td>5</td><td>2</td><td>5</td><td>2</td><td>2</td></tr>\n",
       "\t<tr><th scope=row>dice6</th><td>4</td><td>6</td><td>6</td><td>1</td><td>6</td><td>2</td></tr>\n",
       "\t<tr><th scope=row>dice7</th><td>1</td><td>3</td><td>3</td><td>5</td><td>3</td><td>2</td></tr>\n",
       "</tbody>\n",
       "</table>\n"
      ],
      "text/latex": [
       "A data.frame: 7 × 6\n",
       "\\begin{tabular}{r|llllll}\n",
       "  & 1 & 2 & 3 & 4 & 5 & 6\\\\\n",
       "  & <dbl> & <dbl> & <dbl> & <dbl> & <dbl> & <dbl>\\\\\n",
       "\\hline\n",
       "\tdice1 & 5 & 2 & 7 & 6 & 2 & 2\\\\\n",
       "\tdice2 & 6 & 4 & 1 & 2 & 4 & 2\\\\\n",
       "\tdice3 & 3 & 3 & 5 & 3 & 1 & 4\\\\\n",
       "\tdice4 & 2 & 2 & 2 & 2 & 5 & 2\\\\\n",
       "\tdice5 & 2 & 5 & 2 & 5 & 2 & 2\\\\\n",
       "\tdice6 & 4 & 6 & 6 & 1 & 6 & 2\\\\\n",
       "\tdice7 & 1 & 3 & 3 & 5 & 3 & 2\\\\\n",
       "\\end{tabular}\n"
      ],
      "text/markdown": [
       "\n",
       "A data.frame: 7 × 6\n",
       "\n",
       "| <!--/--> | 1 &lt;dbl&gt; | 2 &lt;dbl&gt; | 3 &lt;dbl&gt; | 4 &lt;dbl&gt; | 5 &lt;dbl&gt; | 6 &lt;dbl&gt; |\n",
       "|---|---|---|---|---|---|---|\n",
       "| dice1 | 5 | 2 | 7 | 6 | 2 | 2 |\n",
       "| dice2 | 6 | 4 | 1 | 2 | 4 | 2 |\n",
       "| dice3 | 3 | 3 | 5 | 3 | 1 | 4 |\n",
       "| dice4 | 2 | 2 | 2 | 2 | 5 | 2 |\n",
       "| dice5 | 2 | 5 | 2 | 5 | 2 | 2 |\n",
       "| dice6 | 4 | 6 | 6 | 1 | 6 | 2 |\n",
       "| dice7 | 1 | 3 | 3 | 5 | 3 | 2 |\n",
       "\n"
      ],
      "text/plain": [
       "      1 2 3 4 5 6\n",
       "dice1 5 2 7 6 2 2\n",
       "dice2 6 4 1 2 4 2\n",
       "dice3 3 3 5 3 1 4\n",
       "dice4 2 2 2 2 5 2\n",
       "dice5 2 5 2 5 2 2\n",
       "dice6 4 6 6 1 6 2\n",
       "dice7 1 3 3 5 3 2"
      ]
     },
     "metadata": {},
     "output_type": "display_data"
    }
   ],
   "source": [
    "df1 <- c(5,6,3,2,2,4,1)\n",
    "df2 <- c(2,4,3,2,5,6,3)\n",
    "df3 <-c(7,1,5,2,2,6,3)\n",
    "df4 <-c(6,2,3,2,5,1,5)\n",
    "df5 <-c(2,4,1,5,2,6,3) \n",
    "df6<-c(2,2,4,2,2,2,2)\n",
    "dice <- data.frame(df1,df2,df3,df4,df5,df6) \n",
    "rownames(dice) <- (c('dice1','dice2','dice3','dice4','dice5','dice6','dice7'))\n",
    "colnames(dice) <- (c('1','2','3','4','5','6'))\n",
    "dice"
   ]
  },
  {
   "cell_type": "code",
   "execution_count": 16,
   "metadata": {},
   "outputs": [
    {
     "data": {
      "text/html": [
       "<table>\n",
       "<caption>A data.frame: 2 × 3</caption>\n",
       "<thead>\n",
       "\t<tr><th></th><th scope=col>1</th><th scope=col>3</th><th scope=col>5</th></tr>\n",
       "\t<tr><th></th><th scope=col>&lt;dbl&gt;</th><th scope=col>&lt;dbl&gt;</th><th scope=col>&lt;dbl&gt;</th></tr>\n",
       "</thead>\n",
       "<tbody>\n",
       "\t<tr><th scope=row>dice3</th><td>3</td><td>5</td><td>1</td></tr>\n",
       "\t<tr><th scope=row>dice4</th><td>2</td><td>2</td><td>5</td></tr>\n",
       "</tbody>\n",
       "</table>\n"
      ],
      "text/latex": [
       "A data.frame: 2 × 3\n",
       "\\begin{tabular}{r|lll}\n",
       "  & 1 & 3 & 5\\\\\n",
       "  & <dbl> & <dbl> & <dbl>\\\\\n",
       "\\hline\n",
       "\tdice3 & 3 & 5 & 1\\\\\n",
       "\tdice4 & 2 & 2 & 5\\\\\n",
       "\\end{tabular}\n"
      ],
      "text/markdown": [
       "\n",
       "A data.frame: 2 × 3\n",
       "\n",
       "| <!--/--> | 1 &lt;dbl&gt; | 3 &lt;dbl&gt; | 5 &lt;dbl&gt; |\n",
       "|---|---|---|---|\n",
       "| dice3 | 3 | 5 | 1 |\n",
       "| dice4 | 2 | 2 | 5 |\n",
       "\n"
      ],
      "text/plain": [
       "      1 3 5\n",
       "dice3 3 5 1\n",
       "dice4 2 2 5"
      ]
     },
     "metadata": {},
     "output_type": "display_data"
    }
   ],
   "source": [
    "dice1<-dice[c(3,4),c(1,3,5)]\n",
    "dice1"
   ]
  },
  {
   "cell_type": "code",
   "execution_count": 17,
   "metadata": {},
   "outputs": [
    {
     "data": {
      "text/html": [
       "<table>\n",
       "<caption>A data.frame: 7 × 7</caption>\n",
       "<thead>\n",
       "\t<tr><th></th><th scope=col>1</th><th scope=col>2</th><th scope=col>3</th><th scope=col>4</th><th scope=col>5</th><th scope=col>6</th><th scope=col>total</th></tr>\n",
       "\t<tr><th></th><th scope=col>&lt;dbl&gt;</th><th scope=col>&lt;dbl&gt;</th><th scope=col>&lt;dbl&gt;</th><th scope=col>&lt;dbl&gt;</th><th scope=col>&lt;dbl&gt;</th><th scope=col>&lt;dbl&gt;</th><th scope=col>&lt;dbl&gt;</th></tr>\n",
       "</thead>\n",
       "<tbody>\n",
       "\t<tr><th scope=row>dice1</th><td>5</td><td>2</td><td>7</td><td>6</td><td>2</td><td>2</td><td>24</td></tr>\n",
       "\t<tr><th scope=row>dice2</th><td>6</td><td>4</td><td>1</td><td>2</td><td>4</td><td>2</td><td>19</td></tr>\n",
       "\t<tr><th scope=row>dice3</th><td>3</td><td>3</td><td>5</td><td>3</td><td>1</td><td>4</td><td>19</td></tr>\n",
       "\t<tr><th scope=row>dice4</th><td>2</td><td>2</td><td>2</td><td>2</td><td>5</td><td>2</td><td>15</td></tr>\n",
       "\t<tr><th scope=row>dice5</th><td>2</td><td>5</td><td>2</td><td>5</td><td>2</td><td>2</td><td>18</td></tr>\n",
       "\t<tr><th scope=row>dice6</th><td>4</td><td>6</td><td>6</td><td>1</td><td>6</td><td>2</td><td>25</td></tr>\n",
       "\t<tr><th scope=row>dice7</th><td>1</td><td>3</td><td>3</td><td>5</td><td>3</td><td>2</td><td>17</td></tr>\n",
       "</tbody>\n",
       "</table>\n"
      ],
      "text/latex": [
       "A data.frame: 7 × 7\n",
       "\\begin{tabular}{r|lllllll}\n",
       "  & 1 & 2 & 3 & 4 & 5 & 6 & total\\\\\n",
       "  & <dbl> & <dbl> & <dbl> & <dbl> & <dbl> & <dbl> & <dbl>\\\\\n",
       "\\hline\n",
       "\tdice1 & 5 & 2 & 7 & 6 & 2 & 2 & 24\\\\\n",
       "\tdice2 & 6 & 4 & 1 & 2 & 4 & 2 & 19\\\\\n",
       "\tdice3 & 3 & 3 & 5 & 3 & 1 & 4 & 19\\\\\n",
       "\tdice4 & 2 & 2 & 2 & 2 & 5 & 2 & 15\\\\\n",
       "\tdice5 & 2 & 5 & 2 & 5 & 2 & 2 & 18\\\\\n",
       "\tdice6 & 4 & 6 & 6 & 1 & 6 & 2 & 25\\\\\n",
       "\tdice7 & 1 & 3 & 3 & 5 & 3 & 2 & 17\\\\\n",
       "\\end{tabular}\n"
      ],
      "text/markdown": [
       "\n",
       "A data.frame: 7 × 7\n",
       "\n",
       "| <!--/--> | 1 &lt;dbl&gt; | 2 &lt;dbl&gt; | 3 &lt;dbl&gt; | 4 &lt;dbl&gt; | 5 &lt;dbl&gt; | 6 &lt;dbl&gt; | total &lt;dbl&gt; |\n",
       "|---|---|---|---|---|---|---|---|\n",
       "| dice1 | 5 | 2 | 7 | 6 | 2 | 2 | 24 |\n",
       "| dice2 | 6 | 4 | 1 | 2 | 4 | 2 | 19 |\n",
       "| dice3 | 3 | 3 | 5 | 3 | 1 | 4 | 19 |\n",
       "| dice4 | 2 | 2 | 2 | 2 | 5 | 2 | 15 |\n",
       "| dice5 | 2 | 5 | 2 | 5 | 2 | 2 | 18 |\n",
       "| dice6 | 4 | 6 | 6 | 1 | 6 | 2 | 25 |\n",
       "| dice7 | 1 | 3 | 3 | 5 | 3 | 2 | 17 |\n",
       "\n"
      ],
      "text/plain": [
       "      1 2 3 4 5 6 total\n",
       "dice1 5 2 7 6 2 2 24   \n",
       "dice2 6 4 1 2 4 2 19   \n",
       "dice3 3 3 5 3 1 4 19   \n",
       "dice4 2 2 2 2 5 2 15   \n",
       "dice5 2 5 2 5 2 2 18   \n",
       "dice6 4 6 6 1 6 2 25   \n",
       "dice7 1 3 3 5 3 2 17   "
      ]
     },
     "metadata": {},
     "output_type": "display_data"
    }
   ],
   "source": [
    "dice$total <- with(dice, (df1+df2+df3+df4+df5+df6))\n",
    "dice"
   ]
  },
  {
   "cell_type": "code",
   "execution_count": null,
   "metadata": {},
   "outputs": [],
   "source": []
  }
 ],
 "metadata": {
  "kernelspec": {
   "display_name": "R",
   "language": "R",
   "name": "ir"
  },
  "language_info": {
   "codemirror_mode": "r",
   "file_extension": ".r",
   "mimetype": "text/x-r-source",
   "name": "R",
   "pygments_lexer": "r",
   "version": "4.0.2"
  }
 },
 "nbformat": 4,
 "nbformat_minor": 4
}
